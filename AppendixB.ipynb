{
 "cells": [
  {
   "cell_type": "markdown",
   "id": "df2c0a5e-5934-4d8f-a12c-4f47e1f6c8f5",
   "metadata": {},
   "source": [
    "# Appendix B"
   ]
  },
  {
   "cell_type": "code",
   "execution_count": 1,
   "id": "7972889b-8b30-4407-bc0e-3f5494bce1b1",
   "metadata": {},
   "outputs": [],
   "source": [
    "# import necessary packages\n",
    "import pandas as pd\n",
    "import numpy as np\n",
    "import re\n",
    "from sklearn.feature_extraction.text import CountVectorizer\n",
    "from sklearn.feature_selection import mutual_info_regression\n",
    "from sklearn.decomposition import PCA"
   ]
  },
  {
   "cell_type": "code",
   "execution_count": null,
   "id": "4271c40e-295d-44a6-890e-d68fe4a6cb74",
   "metadata": {},
   "outputs": [],
   "source": [
    "# read in the raw data\n",
    "raw_train = pd.read_csv(\"data/train.csv\", parse_dates=['host_since', 'first_review', 'last_review'])\n",
    "raw_test = pd.read_csv(\"data/test.csv\", parse_dates=['host_since', 'first_review', 'last_review'])"
   ]
  },
  {
   "cell_type": "markdown",
   "id": "13be2e53-e6be-4085-b4d1-ac2e07f96575",
   "metadata": {},
   "source": [
    "## Model 1 Feature Engineering\n",
    "### Training Dataset"
   ]
  },
  {
   "cell_type": "code",
   "execution_count": null,
   "id": "402ae4bf-df3d-4cb3-8067-f561b23f8073",
   "metadata": {},
   "outputs": [],
   "source": [
    "# features that are ready to go out of the box\n",
    "good_to_go_train = raw_train[['host_total_listings_count', 'calculated_host_listings_count',\n",
    "                              'accommodates',\n",
    "                              'availability_30', 'availability_60', 'availability_90', 'availability_365',\n",
    "                              'minimum_nights', 'maximum_nights',\n",
    "                              'number_of_reviews', 'number_of_reviews_ltm', 'number_of_reviews_l30d']].copy()\n",
    "\n",
    "# features that require transformation from boolean to indicator\n",
    "bools_train = raw_train[['host_is_superhost', \"host_has_profile_pic\", 'host_identity_verified', 'has_availability', 'instant_bookable']].copy()\n",
    "bools_train.loc[bools_train[\"host_is_superhost\"].isna(), 'host_is_superhost'] = False\n",
    "bools_train.loc[bools_train[\"has_availability\"].isna(), 'has_availability'] = False\n",
    "bools_train = bools_train.astype(int)\n",
    "\n",
    "# coordinate and rotated coordinate features\n",
    "# Creating the rotated version such that Manhattan is exactly vertical\n",
    "# so trees can roughly split along streets and avenues\n",
    "coords_train = raw_train[['longitude', 'latitude']].copy()\n",
    "# rotation matrix\n",
    "theta = np.radians(32)\n",
    "rotation_matrix = np.array([\n",
    "    [np.cos(theta), -np.sin(theta)],\n",
    "    [np.sin(theta), np.cos(theta)]\n",
    "])\n",
    "\n",
    "coords = coords_train[['longitude', 'latitude']].values\n",
    "rotated_coords = coords @ rotation_matrix.T\n",
    "coords_train['Rotated Longitude'] = rotated_coords[:, 0]\n",
    "coords_train['Rotate Latitude'] = rotated_coords[:, 1]\n",
    "\n",
    "# date variables (transform to \"days since\")\n",
    "dates_train = (raw_train[\"host_since\"].max() - raw_train[\"host_since\"]).dt.days\n",
    "\n",
    "# create dummies for categorical vairables\n",
    "categorical_train = raw_train[['neighbourhood_group_cleansed', 'host_response_time', 'room_type']].copy()\n",
    "categorical_train = pd.get_dummies(categorical_train, prefix=[\"Neighborhood Group\", \"Response Time\", \"Room Type\"],\n",
    "                                   prefix_sep = \" : \", dummy_na=True, drop_first=False).drop(columns=[\"Neighborhood Group : nan\", \"Room Type : nan\"]).astype(int)\n",
    "\n",
    "# Create Indicators for Amenities that appear more than 500 times in training set (maybe add more for more complex models)\n",
    "amenities_as_lists = raw_train['amenities'].apply(lambda x: x.replace('[', '').replace(']', '').replace('\"', '').split(', '))\n",
    "\n",
    "unique_amenities = {}\n",
    "\n",
    "for list in amenities_as_lists:\n",
    "    for item in list:\n",
    "        if item in unique_amenities:\n",
    "            unique_amenities[item] = unique_amenities[item] + 1\n",
    "        else:\n",
    "            unique_amenities[item] = 1\n",
    "\n",
    "amenitities_to_dummy = [amenity for amenity, count in unique_amenities.items() if count >= 500]\n",
    "\n",
    "amenity_train = pd.DataFrame({f'Amenity : {amenity}': amenities_as_lists.apply(lambda x: amenity in x) for amenity in amenitities_to_dummy}).astype(int)\n",
    "amenity_train[\"Total Amenities\"] = amenities_as_lists.apply(lambda x : len(x))\n",
    "\n",
    "# features that require imputation and other wrangling (need to revisit imputation in more complex models)\n",
    "wrangle_train = raw_train[[\"host_response_rate\", \"host_acceptance_rate\", \"bathrooms\", \"bedrooms\", \"beds\"]].copy()\n",
    "# impute missingness as its own value\n",
    "wrangle_train.loc[wrangle_train[\"host_response_rate\"].isna(), \"host_response_rate\"] = -1\n",
    "wrangle_train.loc[wrangle_train[\"host_acceptance_rate\"].isna(), \"host_acceptance_rate\"] = -1\n",
    "# \n",
    "wrangle_train.loc[wrangle_train[\"bathrooms\"].isna(), \"bathrooms\"] = 1\n",
    "wrangle_train.loc[wrangle_train[\"bedrooms\"].isna(), \"bedrooms\"] = 1\n",
    "wrangle_train.loc[wrangle_train[\"beds\"].isna(), \"beds\"] = 1\n",
    "\n",
    "wrangle_train[\"Shared Baths\"] = raw_train[\"bathrooms_text\"].apply(lambda x : \"shared\" in str(x).lower()).astype(int)\n",
    "wrangle_train[\"Calculated Host Proportion : Entire Homes/Apts\"] = raw_train['calculated_host_listings_count_entire_homes'] / raw_train['calculated_host_listings_count']\n",
    "wrangle_train[\"Calculated Host Proportion : Private Rooms\"] = raw_train['calculated_host_listings_count_private_rooms'] / raw_train['calculated_host_listings_count']\n",
    "wrangle_train[\"Calculated Host Proportion : Shared Rooms\"] = raw_train['calculated_host_listings_count_shared_rooms'] / raw_train['calculated_host_listings_count']\n",
    "\n",
    "# join for final dataframe\n",
    "model1_train = pd.concat([good_to_go_train, bools_train, coords_train, dates_train, categorical_train, amenity_train, wrangle_train], axis=1)"
   ]
  }
 ],
 "metadata": {
  "kernelspec": {
   "display_name": "Python 3 (ipykernel)",
   "language": "python",
   "name": "python3"
  },
  "language_info": {
   "codemirror_mode": {
    "name": "ipython",
    "version": 3
   },
   "file_extension": ".py",
   "mimetype": "text/x-python",
   "name": "python",
   "nbconvert_exporter": "python",
   "pygments_lexer": "ipython3",
   "version": "3.10.14"
  }
 },
 "nbformat": 4,
 "nbformat_minor": 5
}
